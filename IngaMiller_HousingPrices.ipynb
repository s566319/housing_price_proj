{
 "cells": [
  {
   "attachments": {},
   "cell_type": "markdown",
   "metadata": {},
   "source": []
  },
  {
   "attachments": {},
   "cell_type": "markdown",
   "metadata": {},
   "source": [
    "# Final Project: Housing Price Projection"
   ]
  },
  {
   "attachments": {},
   "cell_type": "markdown",
   "metadata": {},
   "source": [
    "Author: [Inga Miller](https://github.com/s566319) Repository: https://github.com/s566319/housing_price_proj"
   ]
  },
  {
   "attachments": {},
   "cell_type": "markdown",
   "metadata": {},
   "source": [
    "Date- 11/2/2024"
   ]
  },
  {
   "attachments": {},
   "cell_type": "markdown",
   "metadata": {},
   "source": [
    "## Section 1-Data Collection"
   ]
  },
  {
   "cell_type": "code",
   "execution_count": 52,
   "metadata": {},
   "outputs": [],
   "source": [
    "# Section 1-Load: Get the file, store it in your repo, and load it into a DataFrame. \n",
    "\n",
    "import pandas as pd\n",
    "import numpy as np \n",
    "import plotly.express as px \n",
    "import matplotlib.pyplot as plt \n",
    "import seaborn as sns\n",
    "Housing = pd.read_csv ('HousingCleaned.csv')"
   ]
  },
  {
   "attachments": {},
   "cell_type": "markdown",
   "metadata": {},
   "source": [
    "## Section 1.2- Data View"
   ]
  },
  {
   "cell_type": "code",
   "execution_count": 53,
   "metadata": {},
   "outputs": [
    {
     "data": {
      "text/html": [
       "<div>\n",
       "<style scoped>\n",
       "    .dataframe tbody tr th:only-of-type {\n",
       "        vertical-align: middle;\n",
       "    }\n",
       "\n",
       "    .dataframe tbody tr th {\n",
       "        vertical-align: top;\n",
       "    }\n",
       "\n",
       "    .dataframe thead th {\n",
       "        text-align: right;\n",
       "    }\n",
       "</style>\n",
       "<table border=\"1\" class=\"dataframe\">\n",
       "  <thead>\n",
       "    <tr style=\"text-align: right;\">\n",
       "      <th></th>\n",
       "      <th>id</th>\n",
       "      <th>date</th>\n",
       "      <th>price</th>\n",
       "      <th>bedrooms</th>\n",
       "      <th>bathrooms</th>\n",
       "      <th>condition</th>\n",
       "      <th>yr_built</th>\n",
       "      <th>zipcode</th>\n",
       "    </tr>\n",
       "  </thead>\n",
       "  <tbody>\n",
       "    <tr>\n",
       "      <th>0</th>\n",
       "      <td>7229300521</td>\n",
       "      <td>20141013</td>\n",
       "      <td>$231,300</td>\n",
       "      <td>2</td>\n",
       "      <td>1.00</td>\n",
       "      <td>3</td>\n",
       "      <td>1955</td>\n",
       "      <td>98178</td>\n",
       "    </tr>\n",
       "    <tr>\n",
       "      <th>1</th>\n",
       "      <td>6414100192</td>\n",
       "      <td>20141209</td>\n",
       "      <td>$538,000</td>\n",
       "      <td>3</td>\n",
       "      <td>2.25</td>\n",
       "      <td>3</td>\n",
       "      <td>1951</td>\n",
       "      <td>98125</td>\n",
       "    </tr>\n",
       "    <tr>\n",
       "      <th>2</th>\n",
       "      <td>5631500400</td>\n",
       "      <td>20150225</td>\n",
       "      <td>$180,000</td>\n",
       "      <td>2</td>\n",
       "      <td>1.00</td>\n",
       "      <td>3</td>\n",
       "      <td>1933</td>\n",
       "      <td>98028</td>\n",
       "    </tr>\n",
       "    <tr>\n",
       "      <th>3</th>\n",
       "      <td>2487200875</td>\n",
       "      <td>20141209</td>\n",
       "      <td>$604,000</td>\n",
       "      <td>4</td>\n",
       "      <td>3.00</td>\n",
       "      <td>5</td>\n",
       "      <td>1965</td>\n",
       "      <td>98136</td>\n",
       "    </tr>\n",
       "    <tr>\n",
       "      <th>4</th>\n",
       "      <td>1954400510</td>\n",
       "      <td>20150218</td>\n",
       "      <td>$510,000</td>\n",
       "      <td>3</td>\n",
       "      <td>2.00</td>\n",
       "      <td>3</td>\n",
       "      <td>1987</td>\n",
       "      <td>98074</td>\n",
       "    </tr>\n",
       "    <tr>\n",
       "      <th>5</th>\n",
       "      <td>7237550310</td>\n",
       "      <td>20140512</td>\n",
       "      <td>$1,230,000</td>\n",
       "      <td>4</td>\n",
       "      <td>4.50</td>\n",
       "      <td>3</td>\n",
       "      <td>2001</td>\n",
       "      <td>98053</td>\n",
       "    </tr>\n",
       "    <tr>\n",
       "      <th>6</th>\n",
       "      <td>1321400060</td>\n",
       "      <td>20140627</td>\n",
       "      <td>$257,500</td>\n",
       "      <td>3</td>\n",
       "      <td>2.25</td>\n",
       "      <td>3</td>\n",
       "      <td>1995</td>\n",
       "      <td>98003</td>\n",
       "    </tr>\n",
       "  </tbody>\n",
       "</table>\n",
       "</div>"
      ],
      "text/plain": [
       "           id      date        price   bedrooms  bathrooms  condition  \\\n",
       "0  7229300521  20141013     $231,300          2       1.00          3   \n",
       "1  6414100192  20141209     $538,000          3       2.25          3   \n",
       "2  5631500400  20150225     $180,000          2       1.00          3   \n",
       "3  2487200875  20141209     $604,000          4       3.00          5   \n",
       "4  1954400510  20150218     $510,000          3       2.00          3   \n",
       "5  7237550310  20140512   $1,230,000          4       4.50          3   \n",
       "6  1321400060  20140627     $257,500          3       2.25          3   \n",
       "\n",
       "   yr_built  zipcode  \n",
       "0      1955    98178  \n",
       "1      1951    98125  \n",
       "2      1933    98028  \n",
       "3      1965    98136  \n",
       "4      1987    98074  \n",
       "5      2001    98053  \n",
       "6      1995    98003  "
      ]
     },
     "execution_count": 53,
     "metadata": {},
     "output_type": "execute_result"
    }
   ],
   "source": [
    "# Section 2-View: Display the first 7 rows and the last 7 rows.\n",
    "\n",
    "Housing.head(7)"
   ]
  },
  {
   "cell_type": "code",
   "execution_count": 54,
   "metadata": {},
   "outputs": [
    {
     "data": {
      "text/html": [
       "<div>\n",
       "<style scoped>\n",
       "    .dataframe tbody tr th:only-of-type {\n",
       "        vertical-align: middle;\n",
       "    }\n",
       "\n",
       "    .dataframe tbody tr th {\n",
       "        vertical-align: top;\n",
       "    }\n",
       "\n",
       "    .dataframe thead th {\n",
       "        text-align: right;\n",
       "    }\n",
       "</style>\n",
       "<table border=\"1\" class=\"dataframe\">\n",
       "  <thead>\n",
       "    <tr style=\"text-align: right;\">\n",
       "      <th></th>\n",
       "      <th>id</th>\n",
       "      <th>date</th>\n",
       "      <th>price</th>\n",
       "      <th>bedrooms</th>\n",
       "      <th>bathrooms</th>\n",
       "      <th>condition</th>\n",
       "      <th>yr_built</th>\n",
       "      <th>zipcode</th>\n",
       "    </tr>\n",
       "  </thead>\n",
       "  <tbody>\n",
       "    <tr>\n",
       "      <th>21606</th>\n",
       "      <td>7936000429</td>\n",
       "      <td>20150326</td>\n",
       "      <td>1.01E+06</td>\n",
       "      <td>4</td>\n",
       "      <td>3.50</td>\n",
       "      <td>3</td>\n",
       "      <td>2009</td>\n",
       "      <td>98136</td>\n",
       "    </tr>\n",
       "    <tr>\n",
       "      <th>21607</th>\n",
       "      <td>2997800021</td>\n",
       "      <td>20150219</td>\n",
       "      <td>$475,000</td>\n",
       "      <td>3</td>\n",
       "      <td>2.50</td>\n",
       "      <td>3</td>\n",
       "      <td>2008</td>\n",
       "      <td>98116</td>\n",
       "    </tr>\n",
       "    <tr>\n",
       "      <th>21608</th>\n",
       "      <td>263000018</td>\n",
       "      <td>20140521</td>\n",
       "      <td>$360,000</td>\n",
       "      <td>3</td>\n",
       "      <td>2.50</td>\n",
       "      <td>3</td>\n",
       "      <td>2009</td>\n",
       "      <td>98103</td>\n",
       "    </tr>\n",
       "    <tr>\n",
       "      <th>21609</th>\n",
       "      <td>6600060120</td>\n",
       "      <td>20150223</td>\n",
       "      <td>$400,000</td>\n",
       "      <td>4</td>\n",
       "      <td>2.50</td>\n",
       "      <td>3</td>\n",
       "      <td>2014</td>\n",
       "      <td>98146</td>\n",
       "    </tr>\n",
       "    <tr>\n",
       "      <th>21610</th>\n",
       "      <td>1523300141</td>\n",
       "      <td>20140623</td>\n",
       "      <td>$402,101</td>\n",
       "      <td>2</td>\n",
       "      <td>0.75</td>\n",
       "      <td>3</td>\n",
       "      <td>2009</td>\n",
       "      <td>98144</td>\n",
       "    </tr>\n",
       "    <tr>\n",
       "      <th>21611</th>\n",
       "      <td>291310100</td>\n",
       "      <td>20150116</td>\n",
       "      <td>$400,000</td>\n",
       "      <td>3</td>\n",
       "      <td>2.50</td>\n",
       "      <td>3</td>\n",
       "      <td>2004</td>\n",
       "      <td>98027</td>\n",
       "    </tr>\n",
       "    <tr>\n",
       "      <th>21612</th>\n",
       "      <td>1523300157</td>\n",
       "      <td>20141015</td>\n",
       "      <td>$325,000</td>\n",
       "      <td>2</td>\n",
       "      <td>0.75</td>\n",
       "      <td>3</td>\n",
       "      <td>2008</td>\n",
       "      <td>98144</td>\n",
       "    </tr>\n",
       "  </tbody>\n",
       "</table>\n",
       "</div>"
      ],
      "text/plain": [
       "               id      date      price   bedrooms  bathrooms  condition  \\\n",
       "21606  7936000429  20150326   1.01E+06          4       3.50          3   \n",
       "21607  2997800021  20150219   $475,000          3       2.50          3   \n",
       "21608   263000018  20140521   $360,000          3       2.50          3   \n",
       "21609  6600060120  20150223   $400,000          4       2.50          3   \n",
       "21610  1523300141  20140623   $402,101          2       0.75          3   \n",
       "21611   291310100  20150116   $400,000          3       2.50          3   \n",
       "21612  1523300157  20141015   $325,000          2       0.75          3   \n",
       "\n",
       "       yr_built  zipcode  \n",
       "21606      2009    98136  \n",
       "21607      2008    98116  \n",
       "21608      2009    98103  \n",
       "21609      2014    98146  \n",
       "21610      2009    98144  \n",
       "21611      2004    98027  \n",
       "21612      2008    98144  "
      ]
     },
     "execution_count": 54,
     "metadata": {},
     "output_type": "execute_result"
    }
   ],
   "source": [
    "Housing.tail(7)"
   ]
  },
  {
   "attachments": {},
   "cell_type": "markdown",
   "metadata": {},
   "source": [
    "## Section 1.3-Data Description"
   ]
  },
  {
   "cell_type": "code",
   "execution_count": 55,
   "metadata": {},
   "outputs": [
    {
     "data": {
      "text/html": [
       "<div>\n",
       "<style scoped>\n",
       "    .dataframe tbody tr th:only-of-type {\n",
       "        vertical-align: middle;\n",
       "    }\n",
       "\n",
       "    .dataframe tbody tr th {\n",
       "        vertical-align: top;\n",
       "    }\n",
       "\n",
       "    .dataframe thead th {\n",
       "        text-align: right;\n",
       "    }\n",
       "</style>\n",
       "<table border=\"1\" class=\"dataframe\">\n",
       "  <thead>\n",
       "    <tr style=\"text-align: right;\">\n",
       "      <th></th>\n",
       "      <th>id</th>\n",
       "      <th>date</th>\n",
       "      <th>bedrooms</th>\n",
       "      <th>bathrooms</th>\n",
       "      <th>condition</th>\n",
       "      <th>yr_built</th>\n",
       "      <th>zipcode</th>\n",
       "    </tr>\n",
       "  </thead>\n",
       "  <tbody>\n",
       "    <tr>\n",
       "      <th>count</th>\n",
       "      <td>2.16e+04</td>\n",
       "      <td>2.16e+04</td>\n",
       "      <td>21613.00</td>\n",
       "      <td>21613.00</td>\n",
       "      <td>21613.00</td>\n",
       "      <td>21613.00</td>\n",
       "      <td>21613.00</td>\n",
       "    </tr>\n",
       "    <tr>\n",
       "      <th>mean</th>\n",
       "      <td>4.58e+09</td>\n",
       "      <td>2.01e+07</td>\n",
       "      <td>3.37</td>\n",
       "      <td>2.11</td>\n",
       "      <td>3.41</td>\n",
       "      <td>1971.01</td>\n",
       "      <td>98077.94</td>\n",
       "    </tr>\n",
       "    <tr>\n",
       "      <th>std</th>\n",
       "      <td>2.88e+09</td>\n",
       "      <td>4.44e+03</td>\n",
       "      <td>0.93</td>\n",
       "      <td>0.77</td>\n",
       "      <td>0.65</td>\n",
       "      <td>29.37</td>\n",
       "      <td>53.51</td>\n",
       "    </tr>\n",
       "    <tr>\n",
       "      <th>min</th>\n",
       "      <td>1.00e+06</td>\n",
       "      <td>2.01e+07</td>\n",
       "      <td>0.00</td>\n",
       "      <td>0.00</td>\n",
       "      <td>1.00</td>\n",
       "      <td>1900.00</td>\n",
       "      <td>98001.00</td>\n",
       "    </tr>\n",
       "    <tr>\n",
       "      <th>25%</th>\n",
       "      <td>2.12e+09</td>\n",
       "      <td>2.01e+07</td>\n",
       "      <td>3.00</td>\n",
       "      <td>1.75</td>\n",
       "      <td>3.00</td>\n",
       "      <td>1951.00</td>\n",
       "      <td>98033.00</td>\n",
       "    </tr>\n",
       "    <tr>\n",
       "      <th>50%</th>\n",
       "      <td>3.90e+09</td>\n",
       "      <td>2.01e+07</td>\n",
       "      <td>3.00</td>\n",
       "      <td>2.25</td>\n",
       "      <td>3.00</td>\n",
       "      <td>1975.00</td>\n",
       "      <td>98065.00</td>\n",
       "    </tr>\n",
       "    <tr>\n",
       "      <th>75%</th>\n",
       "      <td>7.31e+09</td>\n",
       "      <td>2.02e+07</td>\n",
       "      <td>4.00</td>\n",
       "      <td>2.50</td>\n",
       "      <td>4.00</td>\n",
       "      <td>1997.00</td>\n",
       "      <td>98118.00</td>\n",
       "    </tr>\n",
       "    <tr>\n",
       "      <th>max</th>\n",
       "      <td>9.90e+09</td>\n",
       "      <td>2.02e+07</td>\n",
       "      <td>33.00</td>\n",
       "      <td>8.00</td>\n",
       "      <td>5.00</td>\n",
       "      <td>2015.00</td>\n",
       "      <td>98199.00</td>\n",
       "    </tr>\n",
       "  </tbody>\n",
       "</table>\n",
       "</div>"
      ],
      "text/plain": [
       "             id      date  bedrooms  bathrooms  condition  yr_built   zipcode\n",
       "count  2.16e+04  2.16e+04  21613.00   21613.00   21613.00  21613.00  21613.00\n",
       "mean   4.58e+09  2.01e+07      3.37       2.11       3.41   1971.01  98077.94\n",
       "std    2.88e+09  4.44e+03      0.93       0.77       0.65     29.37     53.51\n",
       "min    1.00e+06  2.01e+07      0.00       0.00       1.00   1900.00  98001.00\n",
       "25%    2.12e+09  2.01e+07      3.00       1.75       3.00   1951.00  98033.00\n",
       "50%    3.90e+09  2.01e+07      3.00       2.25       3.00   1975.00  98065.00\n",
       "75%    7.31e+09  2.02e+07      4.00       2.50       4.00   1997.00  98118.00\n",
       "max    9.90e+09  2.02e+07     33.00       8.00       5.00   2015.00  98199.00"
      ]
     },
     "execution_count": 55,
     "metadata": {},
     "output_type": "execute_result"
    }
   ],
   "source": [
    "# Section 3-Describe: Use the DataFrame describe() function to calculate basic descriptive statistics for all numeric columns. \n",
    "\n",
    "pd.set_option(\"display.precision\", 2)\n",
    "Housing.describe()\n"
   ]
  },
  {
   "cell_type": "markdown",
   "metadata": {},
   "source": [
    "# Section 1.3a Additional Data Description"
   ]
  },
  {
   "cell_type": "code",
   "execution_count": 56,
   "metadata": {},
   "outputs": [
    {
     "name": "stdout",
     "output_type": "stream",
     "text": [
      "Rows     :  21613\n",
      "Columns  :  8\n",
      "\n",
      "Features : \n",
      " ['id', 'date', ' price ', 'bedrooms', 'bathrooms', 'condition', 'yr_built', 'zipcode']\n",
      "\n",
      "Missing values :   0\n",
      "\n",
      "Unique values :  \n",
      " id           21436\n",
      "date           372\n",
      " price        3638\n",
      "bedrooms        13\n",
      "bathrooms       30\n",
      "condition        5\n",
      "yr_built       116\n",
      "zipcode         70\n",
      "dtype: int64\n"
     ]
    }
   ],
   "source": [
    "# Section 3-Describe: Use the DataFrame describe() function to calculate basic descriptive statistics for all numeric columns. \n",
    "\n",
    "\n",
    "print (\"Rows     : \" ,Housing.shape[0])\n",
    "print (\"Columns  : \" ,Housing.shape[1])\n",
    "print (\"\\nFeatures : \\n\" ,Housing.columns.tolist())\n",
    "print (\"\\nMissing values :  \", Housing.isnull().sum().values.sum())\n",
    "print (\"\\nUnique values :  \\n\",Housing.nunique())"
   ]
  },
  {
   "attachments": {},
   "cell_type": "markdown",
   "metadata": {},
   "source": [
    "## Section 1.4-Data Descirptive Stats"
   ]
  },
  {
   "cell_type": "code",
   "execution_count": 57,
   "metadata": {},
   "outputs": [
    {
     "name": "stdout",
     "output_type": "stream",
     "text": [
      "<class 'pandas.core.frame.DataFrame'>\n",
      "RangeIndex: 21613 entries, 0 to 21612\n",
      "Data columns (total 8 columns):\n",
      " #   Column     Non-Null Count  Dtype  \n",
      "---  ------     --------------  -----  \n",
      " 0   id         21613 non-null  int64  \n",
      " 1   date       21613 non-null  int64  \n",
      " 2    price     21613 non-null  object \n",
      " 3   bedrooms   21613 non-null  int64  \n",
      " 4   bathrooms  21613 non-null  float64\n",
      " 5   condition  21613 non-null  int64  \n",
      " 6   yr_built   21613 non-null  int64  \n",
      " 7   zipcode    21613 non-null  int64  \n",
      "dtypes: float64(1), int64(6), object(1)\n",
      "memory usage: 1.3+ MB\n"
     ]
    }
   ],
   "source": [
    "# Section 4-Series: Use the Series method describe() to calculate the descriptive stats for all category/text columns.\n",
    "\n",
    "Housing.describe(include=[object])\n",
    "\n",
    "Housing.info()"
   ]
  },
  {
   "attachments": {},
   "cell_type": "markdown",
   "metadata": {},
   "source": [
    "## Section 1.5-Unique Data"
   ]
  },
  {
   "cell_type": "code",
   "execution_count": 58,
   "metadata": {},
   "outputs": [
    {
     "data": {
      "text/plain": [
       "array([98178, 98125, 98028, 98136, 98074, 98053, 98003, 98198, 98146,\n",
       "       98038, 98007, 98115, 98107, 98126, 98019, 98103, 98002, 98133,\n",
       "       98040, 98092, 98030, 98119, 98112, 98052, 98027, 98117, 98058,\n",
       "       98001, 98056, 98166, 98023, 98070, 98148, 98105, 98042, 98008,\n",
       "       98059, 98122, 98144, 98004, 98005, 98034, 98075, 98116, 98010,\n",
       "       98118, 98199, 98032, 98045, 98102, 98077, 98108, 98168, 98177,\n",
       "       98065, 98029, 98006, 98109, 98022, 98033, 98155, 98024, 98011,\n",
       "       98031, 98106, 98072, 98188, 98014, 98055, 98039], dtype=int64)"
      ]
     },
     "execution_count": 58,
     "metadata": {},
     "output_type": "execute_result"
    }
   ],
   "source": [
    "# Section 5-Unique: Use the Series method unique() to get unique category values. \n",
    "\n",
    "Housing[\"zipcode\"].unique()"
   ]
  },
  {
   "cell_type": "code",
   "execution_count": 59,
   "metadata": {},
   "outputs": [
    {
     "data": {
      "text/plain": [
       "array([ 2,  3,  4,  5,  1,  6,  7,  0,  8,  9, 11, 10, 33], dtype=int64)"
      ]
     },
     "execution_count": 59,
     "metadata": {},
     "output_type": "execute_result"
    }
   ],
   "source": [
    "Housing[\"bedrooms\"].unique()"
   ]
  },
  {
   "cell_type": "code",
   "execution_count": 60,
   "metadata": {},
   "outputs": [
    {
     "data": {
      "text/plain": [
       "array([1.  , 2.25, 3.  , 2.  , 4.5 , 1.5 , 2.5 , 1.75, 2.75, 3.25, 4.  ,\n",
       "       3.5 , 0.75, 4.75, 5.  , 4.25, 3.75, 0.  , 1.25, 5.25, 6.  , 0.5 ,\n",
       "       5.5 , 6.75, 5.75, 8.  , 7.5 , 7.75, 6.25, 6.5 ])"
      ]
     },
     "execution_count": 60,
     "metadata": {},
     "output_type": "execute_result"
    }
   ],
   "source": [
    "Housing[\"bathrooms\"].unique()"
   ]
  },
  {
   "attachments": {},
   "cell_type": "markdown",
   "metadata": {},
   "source": [
    "## Section 1.6-Histograms"
   ]
  },
  {
   "cell_type": "code",
   "execution_count": 61,
   "metadata": {},
   "outputs": [
    {
     "data": {
      "image/png": "[encoded data removed]",
      "text/plain": [
       "<Figure size 640x480 with 9 Axes>"
      ]
     },
     "metadata": {},
     "output_type": "display_data"
    }
   ],
   "source": [
    "# Section 6-Histograms: Use the DataFrame's hist() function to create a histogram for each numerical column.\n",
    "\n",
    "%matplotlib inline\n",
    "histogram = Housing.hist()"
   ]
  },
  {
   "cell_type": "markdown",
   "metadata": {},
   "source": [
    "### Quick look at distributions:"
   ]
  },
  {
   "cell_type": "code",
   "execution_count": 64,
   "metadata": {},
   "outputs": [
    {
     "name": "stdout",
     "output_type": "stream",
     "text": [
      "           id      date        price   bedrooms  bathrooms  condition  \\\n",
      "0  7229300521  20141013     $231,300          2       1.00          3   \n",
      "1  6414100192  20141209     $538,000          3       2.25          3   \n",
      "2  5631500400  20150225     $180,000          2       1.00          3   \n",
      "3  2487200875  20141209     $604,000          4       3.00          5   \n",
      "4  1954400510  20150218     $510,000          3       2.00          3   \n",
      "5  7237550310  20140512   $1,230,000          4       4.50          3   \n",
      "6  1321400060  20140627     $257,500          3       2.25          3   \n",
      "7  2008000270  20150115     $291,850          3       1.50          3   \n",
      "8  2414600126  20150415     $229,500          3       1.00          3   \n",
      "9  3793500160  20150312     $323,000          3       2.50          3   \n",
      "\n",
      "   yr_built  zipcode  \n",
      "0      1955    98178  \n",
      "1      1951    98125  \n",
      "2      1933    98028  \n",
      "3      1965    98136  \n",
      "4      1987    98074  \n",
      "5      2001    98053  \n",
      "6      1995    98003  \n",
      "7      1963    98198  \n",
      "8      1960    98146  \n",
      "9      2003    98038  \n",
      "             id      date  bedrooms  bathrooms  condition  yr_built   zipcode\n",
      "count  2.16e+04  2.16e+04  21613.00   21613.00   21613.00  21613.00  21613.00\n",
      "mean   4.58e+09  2.01e+07      3.37       2.11       3.41   1971.01  98077.94\n",
      "std    2.88e+09  4.44e+03      0.93       0.77       0.65     29.37     53.51\n",
      "min    1.00e+06  2.01e+07      0.00       0.00       1.00   1900.00  98001.00\n",
      "25%    2.12e+09  2.01e+07      3.00       1.75       3.00   1951.00  98033.00\n",
      "50%    3.90e+09  2.01e+07      3.00       2.25       3.00   1975.00  98065.00\n",
      "75%    7.31e+09  2.02e+07      4.00       2.50       4.00   1997.00  98118.00\n",
      "max    9.90e+09  2.02e+07     33.00       8.00       5.00   2015.00  98199.00\n"
     ]
    },
    {
     "ename": "ValueError",
     "evalue": "could not convert string to float: ' $231,300 '",
     "output_type": "error",
     "traceback": [
      "\u001b[1;31m---------------------------------------------------------------------------\u001b[0m",
      "\u001b[1;31mValueError\u001b[0m                                Traceback (most recent call last)",
      "Cell \u001b[1;32mIn[64], line 4\u001b[0m\n\u001b[0;32m      2\u001b[0m \u001b[38;5;28mprint\u001b[39m(Housing\u001b[38;5;241m.\u001b[39mhead(n\u001b[38;5;241m=\u001b[39m\u001b[38;5;241m10\u001b[39m))\n\u001b[0;32m      3\u001b[0m \u001b[38;5;28mprint\u001b[39m(Housing\u001b[38;5;241m.\u001b[39mdescribe())\n\u001b[1;32m----> 4\u001b[0m \u001b[43mHousing\u001b[49m\u001b[38;5;241;43m.\u001b[39;49m\u001b[43mcorr\u001b[49m\u001b[43m(\u001b[49m\u001b[43m)\u001b[49m\n",
      "File \u001b[1;32m~\\AppData\\Local\\Packages\\PythonSoftwareFoundation.Python.3.12_qbz5n2kfra8p0\\LocalCache\\local-packages\\Python312\\site-packages\\pandas\\core\\frame.py:11049\u001b[0m, in \u001b[0;36mDataFrame.corr\u001b[1;34m(self, method, min_periods, numeric_only)\u001b[0m\n\u001b[0;32m  11047\u001b[0m cols \u001b[38;5;241m=\u001b[39m data\u001b[38;5;241m.\u001b[39mcolumns\n\u001b[0;32m  11048\u001b[0m idx \u001b[38;5;241m=\u001b[39m cols\u001b[38;5;241m.\u001b[39mcopy()\n\u001b[1;32m> 11049\u001b[0m mat \u001b[38;5;241m=\u001b[39m \u001b[43mdata\u001b[49m\u001b[38;5;241;43m.\u001b[39;49m\u001b[43mto_numpy\u001b[49m\u001b[43m(\u001b[49m\u001b[43mdtype\u001b[49m\u001b[38;5;241;43m=\u001b[39;49m\u001b[38;5;28;43mfloat\u001b[39;49m\u001b[43m,\u001b[49m\u001b[43m \u001b[49m\u001b[43mna_value\u001b[49m\u001b[38;5;241;43m=\u001b[39;49m\u001b[43mnp\u001b[49m\u001b[38;5;241;43m.\u001b[39;49m\u001b[43mnan\u001b[49m\u001b[43m,\u001b[49m\u001b[43m \u001b[49m\u001b[43mcopy\u001b[49m\u001b[38;5;241;43m=\u001b[39;49m\u001b[38;5;28;43;01mFalse\u001b[39;49;00m\u001b[43m)\u001b[49m\n\u001b[0;32m  11051\u001b[0m \u001b[38;5;28;01mif\u001b[39;00m method \u001b[38;5;241m==\u001b[39m \u001b[38;5;124m\"\u001b[39m\u001b[38;5;124mpearson\u001b[39m\u001b[38;5;124m\"\u001b[39m:\n\u001b[0;32m  11052\u001b[0m     correl \u001b[38;5;241m=\u001b[39m libalgos\u001b[38;5;241m.\u001b[39mnancorr(mat, minp\u001b[38;5;241m=\u001b[39mmin_periods)\n",
      "File \u001b[1;32m~\\AppData\\Local\\Packages\\PythonSoftwareFoundation.Python.3.12_qbz5n2kfra8p0\\LocalCache\\local-packages\\Python312\\site-packages\\pandas\\core\\frame.py:1993\u001b[0m, in \u001b[0;36mDataFrame.to_numpy\u001b[1;34m(self, dtype, copy, na_value)\u001b[0m\n\u001b[0;32m   1991\u001b[0m \u001b[38;5;28;01mif\u001b[39;00m dtype \u001b[38;5;129;01mis\u001b[39;00m \u001b[38;5;129;01mnot\u001b[39;00m \u001b[38;5;28;01mNone\u001b[39;00m:\n\u001b[0;32m   1992\u001b[0m     dtype \u001b[38;5;241m=\u001b[39m np\u001b[38;5;241m.\u001b[39mdtype(dtype)\n\u001b[1;32m-> 1993\u001b[0m result \u001b[38;5;241m=\u001b[39m \u001b[38;5;28;43mself\u001b[39;49m\u001b[38;5;241;43m.\u001b[39;49m\u001b[43m_mgr\u001b[49m\u001b[38;5;241;43m.\u001b[39;49m\u001b[43mas_array\u001b[49m\u001b[43m(\u001b[49m\u001b[43mdtype\u001b[49m\u001b[38;5;241;43m=\u001b[39;49m\u001b[43mdtype\u001b[49m\u001b[43m,\u001b[49m\u001b[43m \u001b[49m\u001b[43mcopy\u001b[49m\u001b[38;5;241;43m=\u001b[39;49m\u001b[43mcopy\u001b[49m\u001b[43m,\u001b[49m\u001b[43m \u001b[49m\u001b[43mna_value\u001b[49m\u001b[38;5;241;43m=\u001b[39;49m\u001b[43mna_value\u001b[49m\u001b[43m)\u001b[49m\n\u001b[0;32m   1994\u001b[0m \u001b[38;5;28;01mif\u001b[39;00m result\u001b[38;5;241m.\u001b[39mdtype \u001b[38;5;129;01mis\u001b[39;00m \u001b[38;5;129;01mnot\u001b[39;00m dtype:\n\u001b[0;32m   1995\u001b[0m     result \u001b[38;5;241m=\u001b[39m np\u001b[38;5;241m.\u001b[39masarray(result, dtype\u001b[38;5;241m=\u001b[39mdtype)\n",
      "File \u001b[1;32m~\\AppData\\Local\\Packages\\PythonSoftwareFoundation.Python.3.12_qbz5n2kfra8p0\\LocalCache\\local-packages\\Python312\\site-packages\\pandas\\core\\internals\\managers.py:1694\u001b[0m, in \u001b[0;36mBlockManager.as_array\u001b[1;34m(self, dtype, copy, na_value)\u001b[0m\n\u001b[0;32m   1692\u001b[0m         arr\u001b[38;5;241m.\u001b[39mflags\u001b[38;5;241m.\u001b[39mwriteable \u001b[38;5;241m=\u001b[39m \u001b[38;5;28;01mFalse\u001b[39;00m\n\u001b[0;32m   1693\u001b[0m \u001b[38;5;28;01melse\u001b[39;00m:\n\u001b[1;32m-> 1694\u001b[0m     arr \u001b[38;5;241m=\u001b[39m \u001b[38;5;28;43mself\u001b[39;49m\u001b[38;5;241;43m.\u001b[39;49m\u001b[43m_interleave\u001b[49m\u001b[43m(\u001b[49m\u001b[43mdtype\u001b[49m\u001b[38;5;241;43m=\u001b[39;49m\u001b[43mdtype\u001b[49m\u001b[43m,\u001b[49m\u001b[43m \u001b[49m\u001b[43mna_value\u001b[49m\u001b[38;5;241;43m=\u001b[39;49m\u001b[43mna_value\u001b[49m\u001b[43m)\u001b[49m\n\u001b[0;32m   1695\u001b[0m     \u001b[38;5;66;03m# The underlying data was copied within _interleave, so no need\u001b[39;00m\n\u001b[0;32m   1696\u001b[0m     \u001b[38;5;66;03m# to further copy if copy=True or setting na_value\u001b[39;00m\n\u001b[0;32m   1698\u001b[0m \u001b[38;5;28;01mif\u001b[39;00m na_value \u001b[38;5;129;01mis\u001b[39;00m lib\u001b[38;5;241m.\u001b[39mno_default:\n",
      "File \u001b[1;32m~\\AppData\\Local\\Packages\\PythonSoftwareFoundation.Python.3.12_qbz5n2kfra8p0\\LocalCache\\local-packages\\Python312\\site-packages\\pandas\\core\\internals\\managers.py:1753\u001b[0m, in \u001b[0;36mBlockManager._interleave\u001b[1;34m(self, dtype, na_value)\u001b[0m\n\u001b[0;32m   1751\u001b[0m     \u001b[38;5;28;01melse\u001b[39;00m:\n\u001b[0;32m   1752\u001b[0m         arr \u001b[38;5;241m=\u001b[39m blk\u001b[38;5;241m.\u001b[39mget_values(dtype)\n\u001b[1;32m-> 1753\u001b[0m     \u001b[43mresult\u001b[49m\u001b[43m[\u001b[49m\u001b[43mrl\u001b[49m\u001b[38;5;241;43m.\u001b[39;49m\u001b[43mindexer\u001b[49m\u001b[43m]\u001b[49m \u001b[38;5;241m=\u001b[39m arr\n\u001b[0;32m   1754\u001b[0m     itemmask[rl\u001b[38;5;241m.\u001b[39mindexer] \u001b[38;5;241m=\u001b[39m \u001b[38;5;241m1\u001b[39m\n\u001b[0;32m   1756\u001b[0m \u001b[38;5;28;01mif\u001b[39;00m \u001b[38;5;129;01mnot\u001b[39;00m itemmask\u001b[38;5;241m.\u001b[39mall():\n",
      "\u001b[1;31mValueError\u001b[0m: could not convert string to float: ' $231,300 '"
     ]
    }
   ],
   "source": [
    "import pandas as pd\n",
    "print(Housing.head(n=10))\n",
    "print(Housing.describe())\n",
    "Housing.corr()"
   ]
  },
  {
   "cell_type": "markdown",
   "metadata": {},
   "source": [
    "### Train/ Test Data Set"
   ]
  },
  {
   "cell_type": "code",
   "execution_count": 67,
   "metadata": {},
   "outputs": [
    {
     "ename": "ModuleNotFoundError",
     "evalue": "No module named 'sklearn'",
     "output_type": "error",
     "traceback": [
      "\u001b[1;31m---------------------------------------------------------------------------\u001b[0m",
      "\u001b[1;31mModuleNotFoundError\u001b[0m                       Traceback (most recent call last)",
      "Cell \u001b[1;32mIn[67], line 1\u001b[0m\n\u001b[1;32m----> 1\u001b[0m \u001b[38;5;28;01mfrom\u001b[39;00m \u001b[38;5;21;01msklearn\u001b[39;00m\u001b[38;5;21;01m.\u001b[39;00m\u001b[38;5;21;01mmodel_selection\u001b[39;00m \u001b[38;5;28;01mimport\u001b[39;00m train_test_split\n\u001b[0;32m      3\u001b[0m train_set, test_set \u001b[38;5;241m=\u001b[39m train_test_split(Housing,\n\u001b[0;32m      4\u001b[0m                         test_size\u001b[38;5;241m=\u001b[39m\u001b[38;5;241m0.2\u001b[39m, random_state\u001b[38;5;241m=\u001b[39m\u001b[38;5;241m123\u001b[39m)\n\u001b[0;32m      6\u001b[0m \u001b[38;5;28mprint\u001b[39m(\u001b[38;5;124m'\u001b[39m\u001b[38;5;124mTrain size: \u001b[39m\u001b[38;5;124m'\u001b[39m, \u001b[38;5;28mlen\u001b[39m(train_set), \u001b[38;5;124m'\u001b[39m\u001b[38;5;124mTest size: \u001b[39m\u001b[38;5;124m'\u001b[39m, \u001b[38;5;28mlen\u001b[39m(test_set))\n",
      "\u001b[1;31mModuleNotFoundError\u001b[0m: No module named 'sklearn'"
     ]
    }
   ],
   "source": [
    "from sklearn.model_selection import train_test_split\n",
    "\n",
    "train_set, test_set = train_test_split(Housing,\n",
    "                        test_size=0.2, random_state=123)\n",
    "\n",
    "print('Train size: ', len(train_set), 'Test size: ', len(test_set))\n",
    "\n",
    "print('Bedroon counts', bedrooms['bedrooms'].value_counts())\n",
    "\n",
    "print('Train counts', train_set['bedrooms'].value_counts())\n",
    "print('Test counts', test_set['bedrooms'].value_counts())"
   ]
  }
 ],
 "metadata": {
  "kernelspec": {
   "display_name": "Python 3",
   "language": "python",
   "name": "python3"
  },
  "language_info": {
   "codemirror_mode": {
    "name": "ipython",
    "version": 3
   },
   "file_extension": ".py",
   "mimetype": "text/x-python",
   "name": "python",
   "nbconvert_exporter": "python",
   "pygments_lexer": "ipython3",
   "version": "3.12.7"
  },
  "orig_nbformat": 4
 },
 "nbformat": 4,
 "nbformat_minor": 2
}
